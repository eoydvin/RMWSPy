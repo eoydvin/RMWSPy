{
 "cells": [
  {
   "cell_type": "code",
   "execution_count": 1,
   "id": "4825f4d3-9098-4c83-9d92-a18b2b823147",
   "metadata": {},
   "outputs": [
    {
     "name": "stderr",
     "output_type": "stream",
     "text": [
      "2024-05-30 12:33:31.005110: I tensorflow/core/platform/cpu_feature_guard.cc:182] This TensorFlow binary is optimized to use available CPU instructions in performance-critical operations.\n",
      "To enable the following instructions: SSE4.1 SSE4.2 AVX AVX2 FMA, in other operations, rebuild TensorFlow with the appropriate compiler flags.\n",
      "WARNING:absl:Skipping variable loading for optimizer 'Adam', because it has 9 variables whereas the saved optimizer has 1 variables. \n",
      "WARNING:absl:Skipping variable loading for optimizer 'Adam', because it has 13 variables whereas the saved optimizer has 1 variables. \n"
     ]
    }
   ],
   "source": [
    "import matplotlib.pyplot as plt\n",
    "import numpy as np\n",
    "import xarray as xr\n",
    "import pandas as pd\n",
    "import pycomlink as pycml\n",
    "import pycomlink.processing.wet_dry.mlp as mlp\n",
    "import pycomlink.processing.wet_dry.cnn as cnn\n",
    "from pycomlink.processing.wet_dry.nearby_wetdry import * \n",
    "from pycomlink.spatial.grid_intersection import calc_sparse_intersect_weights_for_several_cmls\n",
    "from pycomlink.spatial.grid_intersection import get_grid_time_series_at_intersections\n",
    "\n",
    "import tqdm"
   ]
  },
  {
   "cell_type": "code",
   "execution_count": 2,
   "id": "eeaa8ed3-a938-4638-99bb-0b49ab769edb",
   "metadata": {},
   "outputs": [],
   "source": [
    "# load data from your favourite sandbox path\n",
    "ds_cml_all = xr.open_dataset('./data/openMRG_example.nc')\n",
    "ds_rad = xr.open_dataset('./data/openMRG_example_rad.nc')"
   ]
  },
  {
   "cell_type": "code",
   "execution_count": 3,
   "id": "a0cfb739-80a5-4f9d-bbb4-200eda436cb5",
   "metadata": {},
   "outputs": [],
   "source": [
    "# calculate total loss\n",
    "ds_cml_all[\"tl\"] = ds_cml_all.tsl - ds_cml_all.rsl"
   ]
  },
  {
   "cell_type": "code",
   "execution_count": 4,
   "id": "fdd32d76-e03c-4c80-84e4-d23ff683da81",
   "metadata": {},
   "outputs": [],
   "source": [
    "# works best with one month of data, as this could potentially capture a rainfall event\n",
    "\n",
    "# remove cmls with strong diurnal cycles \n",
    "ds_cml_all = ds_cml_all.where(\n",
    "    ((ds_cml_all.tl.rolling(time = 60*5, center = True).std() > 2).sum(\n",
    "        dim = 'time') / ds_cml_all.time.size <= 0.1).all(dim = 'sublink_id'),\n",
    "    drop = True\n",
    ")\n",
    "\n",
    "# remove cmls with very noisy periods\n",
    "ds_cml_all = ds_cml_all.where(\n",
    "    (ds_cml_all.tl.rolling(time = 60, center = True).std() > 0.8).sum(\n",
    "        dim = 'time') / ds_cml_all.time.size <= 0.35,\n",
    "    drop = True\n",
    ")"
   ]
  },
  {
   "cell_type": "code",
   "execution_count": 5,
   "id": "2f0aaf48-ba57-428f-a4f4-02c2bdb92f8a",
   "metadata": {},
   "outputs": [],
   "source": [
    "# Delay grids to allow dask to track them\n",
    "intersect_weights = calc_sparse_intersect_weights_for_several_cmls(\n",
    "    x1_line=ds_cml_all.site_0_lon.values,\n",
    "    y1_line=ds_cml_all.site_0_lat.values,\n",
    "    x2_line=ds_cml_all.site_1_lon.values,\n",
    "    y2_line=ds_cml_all.site_1_lat.values,\n",
    "    cml_id=ds_cml_all.cml_id.values,\n",
    "    x_grid=ds_rad.lon.values,\n",
    "    y_grid=ds_rad.lat.values, # \n",
    ")\n",
    "    "
   ]
  },
  {
   "cell_type": "code",
   "execution_count": 6,
   "id": "259874ce-09fa-44fd-8263-7f4165a3d3b6",
   "metadata": {},
   "outputs": [],
   "source": [
    "start = ds_rad.time[0].values\n",
    "end = ds_rad.time[-1].values\n",
    "\n",
    "grid_data = ds_rad.sel(time=slice(start, end)).rainfall\n",
    "R_rad = get_grid_time_series_at_intersections(\n",
    "    grid_data = grid_data*(1/60), # to sum 1 min\n",
    "    intersect_weights=intersect_weights,\n",
    ").resample(time = '1min').bfill()"
   ]
  },
  {
   "cell_type": "code",
   "execution_count": 7,
   "id": "426397eb-7265-44bd-a47a-3a899963fa92",
   "metadata": {},
   "outputs": [],
   "source": [
    "ds_cml_all['R_rad'] = (('time', 'cml_id'), np.zeros([ds_cml_all.time.size, ds_cml_all.cml_id.size]))\n",
    "ds_cml_all['R_rad'].loc[{'time':R_rad.time}] = R_rad"
   ]
  },
  {
   "cell_type": "code",
   "execution_count": 8,
   "id": "ec526bbe-e901-4d6c-97cd-0e92b0cd481c",
   "metadata": {},
   "outputs": [
    {
     "name": "stderr",
     "output_type": "stream",
     "text": [
      "100%|████████████████████████████████████| 357/357 [08:02<00:00,  1.35s/it]\n"
     ]
    }
   ],
   "source": [
    "# # wet period according to graf\n",
    "# roll_std_dev = ds_cml_all.tl.rolling(time=60, center=True).std() \n",
    "# threshold = 1.12*roll_std_dev.quantile(0.8,dim='time')\n",
    "# ds_cml_all[\"wet\"] = roll_std_dev>threshold\n",
    "\n",
    "# seperate periods of rain from dry time steps\n",
    "# ds_cml_all[\"wet\"] = ds_cml_all.tl.rolling(time=60, center=True).std(skipna=False) > 0.8\n",
    "ds_cml_all['wet'] = (('cml_id', 'time'), np.zeros([ds_cml_all.cml_id.size, ds_cml_all.time.size]))\n",
    "for cml_id in tqdm.tqdm(ds_cml_all.cml_id.values):\n",
    "   mlp_out = mlp.mlp_wet_dry(\n",
    "       trsl_channel_1 = ds_cml_all.sel(cml_id = cml_id).isel(sublink_id = 0).tl.values,\n",
    "       trsl_channel_2 = ds_cml_all.sel(cml_id = cml_id).isel(sublink_id = 1).tl.values,\n",
    "       model_sel = 'gauge'\n",
    "   )\n",
    "   ds_cml_all['wet'].loc[{'cml_id':cml_id}]=  np.argmax(mlp_out, axis = 1)\n",
    "\n",
    "# ds_cml_all['wet'] = (('cml_id', 'time'), np.zeros([ds_cml_all.cml_id.size, ds_cml_all.time.size]))\n",
    "# for cml_id in tqdm.tqdm(ds_cml_all.cml_id.values):\n",
    "#    cnn_out = cnn.cnn_wet_dry(\n",
    "#        trsl_channel_1 = ds_cml_all.sel(cml_id = cml_id).isel(sublink_id = 0).tl.values,\n",
    "#        trsl_channel_2 = ds_cml_all.sel(cml_id = cml_id).isel(sublink_id = 1).tl.values,\n",
    "#    )\n",
    "#    ds_cml_all['wet'].loc[{'cml_id':cml_id}]=  cnn_out > 0.82\n",
    "\n",
    "# wet when radar is wet\n",
    "# radar_rain_thrs = 0.00167 # 0.001 correspods to 0.06 mm per hour # 00167 to 0.1\n",
    "# ds_cml_all['wet'] = ds_cml_all['R_rad'] > radar_rain_thrs "
   ]
  },
  {
   "cell_type": "code",
   "execution_count": 9,
   "id": "ec4a6f27-43d5-4bb7-b47e-aa5ead3cd9ce",
   "metadata": {},
   "outputs": [],
   "source": [
    "ds_cml_all = ds_cml_all.isel(sublink_id = 0)"
   ]
  },
  {
   "cell_type": "code",
   "execution_count": 10,
   "id": "29c3dfed-fc56-432a-8e2c-13e596d59341",
   "metadata": {},
   "outputs": [],
   "source": [
    "# extend the wet period \n",
    "# def smooth_binary_array(arr, window_size=1):\n",
    "#     # Create a kernel for smoothing, e.g., [1, 1, 1] for a simple moving average\n",
    "#     kernel = np.ones(window_size, dtype=bool)\n",
    "    \n",
    "#     # Use convolution to smooth the array\n",
    "#     smoothed_arr = np.convolve(arr, kernel, mode='same')\n",
    "    \n",
    "#     # Convert non-zero values to True\n",
    "#     smoothed_arr = smoothed_arr > 0\n",
    "    \n",
    "#     return smoothed_arr\n",
    "# for cml_id in tqdm.tqdm(ds_cml_all.cml_id.values):\n",
    "#     ds_cml_all['wet'].loc[{'cml_id':cml_id}] = smooth_binary_array(ds_cml_all.sel(cml_id = cml_id).wet.values, window_size=30)"
   ]
  },
  {
   "cell_type": "code",
   "execution_count": 11,
   "id": "75402e55-6a30-43df-884a-b34e1f7e3d6d",
   "metadata": {
    "scrolled": true
   },
   "outputs": [],
   "source": [
    "# # set baseline using median of last wet and dry events\n",
    "# ds_cml_all['baseline'] = (('time', 'cml_id'), np.zeros([ds_cml_all.time.size, ds_cml_all.cml_id.size]))\n",
    "# delta = 60*6 # number of surrounding dry minutes to use\n",
    "# for i, cml_id in tqdm.tqdm(enumerate(ds_cml_all.cml_id)):\n",
    "    \n",
    "#     tl = ds_cml_all.sel(cml_id = cml_id).tl.data.copy()\n",
    "#     wet = ds_cml_all.sel(cml_id = cml_id).wet.data.astype(bool).copy()\n",
    "#     baseline = tl.copy() # use tl as base for baseline\n",
    "    \n",
    "#     for t in range(len(baseline)):\n",
    "#         if wet[t]: # modify baseline array if timestep is wet\n",
    "#             # Set left and right bounds for storing median value\n",
    "#             left_b = t # init at where we start\n",
    "#             right_b = t\n",
    "\n",
    "#             # Iterate to find first dry timesteps\n",
    "#             while wet[left_b] & (left_b > 0): # find first point that is not wet\n",
    "#                 left_b -= 1\n",
    "#             # while wet[right_b] & (right_b- 1 < wet.size):\n",
    "#             #     right_b += 1\n",
    "\n",
    "#             n_dry = 0 # count number of dry steps inside interval (levt_b, right_b)\n",
    "#             while n_dry < delta: # increase bounds until number of dry events is equal to delta_init\n",
    "#                 left_b-=2 # advance to left\n",
    "#                 while wet[left_b] & (left_b > 0): # advance more if period is wet\n",
    "#                     left_b -= 1\n",
    "                \n",
    "#                 # right_b+=1\n",
    "#                 # while wet[right_b] & (right_b- 1 < wet.size):\n",
    "#                 #     right_b += 1\n",
    "                    \n",
    "#                 if left_b < 0:\n",
    "#                     break  # use current number of dry minutes\n",
    "#                 # if right_b > wet.size:\n",
    "#                 #     right_b = wet.size\n",
    "#                 n_dry = (~wet[left_b:right_b]).sum()\n",
    "\n",
    "#             dry_steps = ~wet[left_b:right_b]\n",
    "            \n",
    "#             baseline[t] = np.median(tl[left_b:right_b][dry_steps])\n",
    "#     ds_cml_all['baseline'].loc[{'cml_id':cml_id}] = baseline"
   ]
  },
  {
   "cell_type": "code",
   "execution_count": 12,
   "id": "57f3d240-a3ac-4e23-a022-c3bdd7120365",
   "metadata": {},
   "outputs": [],
   "source": [
    "#ds_cml_all = ds_cml_all.sel(time = slice(ds_rad.time[0], ds_rad.time[-1]))"
   ]
  },
  {
   "cell_type": "code",
   "execution_count": 26,
   "id": "79ddde35-220c-4351-8ec7-97a7ffec5f6b",
   "metadata": {},
   "outputs": [],
   "source": [
    "# estimate the baseline during rain events\n",
    "ds_cml_all[\"baseline\"] = pycml.processing.baseline.baseline_constant(\n",
    "    trsl=ds_cml_all.tl,\n",
    "    wet=ds_cml_all.wet,\n",
    "    n_average_last_dry=5,\n",
    ")\n",
    "\n",
    "\n",
    "# # compenmsate for wet antenna attenuation\n",
    "# cmls[\"waa\"] = pycml.processing.wet_antenna.waa_schleiss_2013(\n",
    "#     rsl=cmls.tl,\n",
    "#     baseline=cmls.baseline,\n",
    "#     wet=cmls.wet,\n",
    "#     waa_max=2.2,\n",
    "#     delta_t=1,\n",
    "#     tau=15,\n",
    "# )\n",
    "# ds_cml_all[\"A_obs\"] = ds_cml_all.tl - ds_cml_all.baseline\n",
    "# ds_cml_all[\"A_obs\"] = ds_cml_all.A_obs.where(ds_cml_all.A_obs >= 0, 0)\n",
    "\n",
    "# ds_cml_all[\"waa\"] = pycml.processing.wet_antenna.waa_leijnse_2008_from_A_obs(\n",
    "#     A_obs=ds_cml_all.A_obs,\n",
    "#     f_Hz=ds_cml_all.frequency * 1e6,\n",
    "#     pol=ds_cml_all.polarization,\n",
    "#     L_km=ds_cml_all.length / 1000,\n",
    "# )\n",
    "# # WAA from GRaf2020\n",
    "# ds_cml_all[\"A_obs\"] = ds_cml_all.tl - ds_cml_all.baseline\n",
    "# ds_cml_all[\"A_obs\"] = ds_cml_all.A_obs.where(ds_cml_all.A_obs >= 0, 0)\n",
    "# ds_cml_all[\"waa\"] = pycml.processing.wet_antenna.waa_leijnse_2008_from_A_obs(\n",
    "#     A_obs=ds_cml_all.A_obs,\n",
    "#     f_Hz=ds_cml_all.frequency*1e6,\n",
    "#     pol=ds_cml_all.polarization,\n",
    "#     L_km=ds_cml_all.length/ 1000, \n",
    "#     gamma = 1.47e-5, # Parameter that determines the magnitutde of the water film thickness (graf2020)\n",
    "#     l_antenna = 0.0041, # antanna cover material tickness [meter] (graf2020)\n",
    "#     delta = 0.36, # factor for the relation between the nonlinarity of rain rate and water film tickness\n",
    "# )\n",
    "\n",
    "ds_cml_all[\"A_obs\"] = ds_cml_all.tl - ds_cml_all.baseline # can use different baselines\n",
    "ds_cml_all[\"A_obs\"] = ds_cml_all.A_obs.where(ds_cml_all.A_obs >= 0, 0)\n",
    "\n",
    "ds_cml_all[\"waa\"] = pycml.processing.wet_antenna.waa_pastorek_2021_from_A_obs(\n",
    "    A_obs=ds_cml_all.A_obs,\n",
    "    f_Hz=ds_cml_all.frequency * 1e6,\n",
    "    pol=ds_cml_all.polarization.values,\n",
    "    L_km=ds_cml_all.length/ 1000,\n",
    "    A_max=9,\n",
    "    zeta=0.55, # 0.55 is default\n",
    ")\n",
    "\n",
    "\n",
    "\n",
    "# calculate attenuation caused by rain and remove negative attenuation\n",
    "ds_cml_all[\"A\"] = ds_cml_all.tl - ds_cml_all.baseline - ds_cml_all.waa\n",
    "ds_cml_all[\"A\"].values[ds_cml_all.A < 0] = 0\n",
    "# derive rain rate via the k-R relation\n",
    "ds_cml_all[\"R\"] = pycml.processing.k_R_relation.calc_R_from_A(\n",
    "    A=ds_cml_all.A,\n",
    "    L_km=ds_cml_all.length.astype(float)/1000, # convert to km\n",
    "    f_GHz=ds_cml_all.frequency/1000, # convert to GHz\n",
    "    pol=ds_cml_all.polarization,\n",
    ")"
   ]
  },
  {
   "cell_type": "code",
   "execution_count": 27,
   "id": "75b0c6e3-c3d7-4f14-a1ad-25572720f922",
   "metadata": {},
   "outputs": [],
   "source": [
    "# ds_cml_res = ds_cml_all.where(ds_cml_all.wet.mean(dim = 'time') > 0.05, drop = True).sel(\n",
    "#     time = slice('2015-07-25T00:00', '2015-07-25T15:00')).isel(sublink_id = 0).R.resample(time = '5T').sum(skipna = True)/60"
   ]
  },
  {
   "cell_type": "code",
   "execution_count": 28,
   "id": "ca71cefb-59a7-4acb-938e-0c42efbc30bf",
   "metadata": {},
   "outputs": [],
   "source": [
    "# slice data, resample to 5 min, convert to sum 5 min\n",
    "ds_cml_res = ds_cml_all.sel(time = slice(ds_rad.time[0], ds_rad.time[-1])).resample(time = '5min').sum(skipna = True)/60"
   ]
  },
  {
   "cell_type": "code",
   "execution_count": 29,
   "id": "e8c81ea6-048d-437c-ae52-78c955d32d30",
   "metadata": {},
   "outputs": [],
   "source": [
    "# store in project folder\n",
    "ds_cml_res.to_netcdf('./data/ds_cml_ompenmrg.nc')"
   ]
  },
  {
   "cell_type": "code",
   "execution_count": null,
   "id": "cb0ce934-b4f1-432b-beda-001586b73b56",
   "metadata": {},
   "outputs": [],
   "source": []
  }
 ],
 "metadata": {
  "kernelspec": {
   "display_name": "Python 3 (ipykernel)",
   "language": "python",
   "name": "python3"
  },
  "language_info": {
   "codemirror_mode": {
    "name": "ipython",
    "version": 3
   },
   "file_extension": ".py",
   "mimetype": "text/x-python",
   "name": "python",
   "nbconvert_exporter": "python",
   "pygments_lexer": "ipython3",
   "version": "3.11.8"
  }
 },
 "nbformat": 4,
 "nbformat_minor": 5
}
