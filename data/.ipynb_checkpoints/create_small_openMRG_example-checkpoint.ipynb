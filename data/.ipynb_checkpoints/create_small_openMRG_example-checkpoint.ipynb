{
 "cells": [
  {
   "cell_type": "code",
   "execution_count": 1,
   "id": "88b8bc90-55a0-4a41-9926-58ecf8204586",
   "metadata": {},
   "outputs": [],
   "source": [
    "%load_ext autoreload\n",
    "%autoreload 2\n",
    "\n",
    "import matplotlib.pyplot as plt\n",
    "import xarray as xr\n",
    "import numpy as np\n",
    "import pandas as pd\n",
    "import os\n",
    "from tqdm import tqdm\n",
    "import sys"
   ]
  },
  {
   "cell_type": "code",
   "execution_count": 2,
   "id": "e8d299ab-812e-4528-915d-97e9957f4cf4",
   "metadata": {},
   "outputs": [],
   "source": [
    "path_transformer = os.path.abspath('/home/erlend/Documents/GitHub/OPENSENSE_sandbox/notebooks/') # navigate to your local sandbox clone\n",
    "sys.path.append(path_transformer)\n",
    "import opensense_data_downloader_and_transformer as oddt"
   ]
  },
  {
   "cell_type": "markdown",
   "id": "35d8007b-7c76-4d1a-8560-f902bcbf8c57",
   "metadata": {},
   "source": [
    "# Note:\n",
    "The following code prepares the radar and CML data from the OpenMRG dataset, it is in essence a copy of existing files used for the use case (but with different time slicing):\n",
    "https://github.com/eoydvin/OPENSENSE_sandbox/blob/main/notebooks/data/create_small_openMRG_example.ipynb"
   ]
  },
  {
   "cell_type": "markdown",
   "id": "2d23a2b4-a08f-4094-adc0-3bdc8f9bf40c",
   "metadata": {
    "tags": []
   },
   "source": [
    "# Derive small example dataset from the OpenMRG dataset from SMHI with large CML dataset\n",
    "source: https://zenodo.org/record/6673751"
   ]
  },
  {
   "cell_type": "code",
   "execution_count": 3,
   "id": "8dfbf1e0-72be-44c2-8e98-07e6e7b44fac",
   "metadata": {},
   "outputs": [
    {
     "name": "stdout",
     "output_type": "stream",
     "text": [
      "File already exists at desired location andersson_2022_OpenMRG/OpenMRG.zip\n",
      "Not downloading!\n"
     ]
    }
   ],
   "source": [
    "oddt.download_andersson_2022_OpenMRG(local_path='/home/erlend/offline_data/andersson_2022_OpenMRG/', print_output=True)"
   ]
  },
  {
   "cell_type": "code",
   "execution_count": 4,
   "id": "5e0d4ba5-580a-4217-9252-26dbf1e00e24",
   "metadata": {},
   "outputs": [
    {
     "name": "stderr",
     "output_type": "stream",
     "text": [
      "/home/erlend/Documents/GitHub/OPENSENSE_sandbox/notebooks/opensense_data_downloader_and_transformer.py:302: FutureWarning: the `pandas.MultiIndex` object(s) passed as 'sublink' coordinate(s) or data variable(s) will no longer be implicitly promoted and wrapped into multiple indexed coordinates in the future (i.e., one coordinate for each multi-index level + one dimension coordinate). If you want to keep this behavior, you need to first wrap it explicitly using `mindex_coords = xarray.Coordinates.from_pandas_multiindex(mindex_obj, 'dim')` and pass it as coordinates, e.g., `xarray.Dataset(coords=mindex_coords)`, `dataset.assign_coords(mindex_coords)` or `dataarray.assign_coords(mindex_coords)`.\n",
      "  ds_multindex = ds.assign_coords({'sublink':df_metadata.index})\n"
     ]
    }
   ],
   "source": [
    "# use a long CML window for CML quality control\n",
    "ds = oddt.transform_andersson_2022_OpenMRG(\n",
    "    fn='/home/erlend/offline_data/andersson_2022_OpenMRG/OpenMRG.zip', # navigate to your local sandbox clone\n",
    "    path_to_extract_to='/home/erlend/offline_data/andersson_2022_OpenMRG/',\n",
    "    time_start_end = ('2015-07-01T00:00', '2015-08-01T00:00'), # default (None, None) -> no timeslicing. ie. ('2015-08-31T00', None),\n",
    "    restructure_data=True,\n",
    ")"
   ]
  },
  {
   "cell_type": "code",
   "execution_count": 5,
   "id": "698fb4ea-6480-44a6-9d29-cbfe4e8d7804",
   "metadata": {},
   "outputs": [],
   "source": [
    "ds = ds.resample(time = '1T').first(skipna=True)"
   ]
  },
  {
   "cell_type": "code",
   "execution_count": 6,
   "id": "6e42a9ad-c148-4d12-b627-93ba0fb3d480",
   "metadata": {},
   "outputs": [],
   "source": [
    "ds[\"tsl\"] = ds.tsl.interpolate_na(dim=\"time\", method=\"linear\", max_gap=\"5min\")\n",
    "ds[\"rsl\"] = ds.rsl.interpolate_na(dim=\"time\", method=\"linear\", max_gap=\"5min\")"
   ]
  },
  {
   "cell_type": "code",
   "execution_count": 7,
   "id": "f11f3ae6-cd93-488e-945c-87dcc89f3988",
   "metadata": {},
   "outputs": [],
   "source": [
    "ds.attrs['file author(s)'] = 'Maximilian Graf, Erlend Øydvin and Christian Chwala'\n",
    "ds.attrs['title'] = \"Transformed and resampled OpenMRG-CML\"\n",
    "ds.attrs['comment'] += \"\\n\\nTransformed and resampled dataset: \\n\" \\\n",
    "\"rsl and tsl was resampled to 1 minute resolution using the first occuring value in every minute. \" \\\n",
    "\"Gaps shorter than 5min was linearly interpolated. \"\n",
    "ds.attrs['contact'] += ', erlend.oydvin@nmbu.no'"
   ]
  },
  {
   "cell_type": "code",
   "execution_count": 11,
   "id": "059782ee-3148-4ae4-9ba8-e1a27d4bb644",
   "metadata": {},
   "outputs": [],
   "source": [
    "# use default netcdf for nan\n",
    "ds.to_netcdf(\n",
    "    path='./openMRG_example.nc',\n",
    "    encoding={\n",
    "        'rsl': {'zlib': True},\n",
    "        'tsl':{'zlib': True}\n",
    "    }\n",
    ")\n"
   ]
  },
  {
   "cell_type": "code",
   "execution_count": 17,
   "id": "7e95a260-1bb1-4aa1-a1a0-150d93497b2c",
   "metadata": {},
   "outputs": [],
   "source": [
    "# get short radar data \n",
    "ds_rad = xr.open_dataset('./andersson_2022_OpenMRG/radar/radar.nc').sel(\n",
    "    time = slice('2015-07-25T00:00', '2015-07-25T15:00'))\n",
    "    #time = slice('2015-07-28T13', '2015-07-28T17'))\n",
    "\n"
   ]
  },
  {
   "cell_type": "code",
   "execution_count": 18,
   "id": "10ff57e3-f7eb-406c-959d-7bffe56aae76",
   "metadata": {},
   "outputs": [
    {
     "name": "stderr",
     "output_type": "stream",
     "text": [
      "/tmp/ipykernel_3987138/1611641699.py:4: DeprecationWarning: dropping variables using `drop` is deprecated; use drop_vars.\n",
      "  ds_rad = ds_rad.drop('data')\n"
     ]
    }
   ],
   "source": [
    "def marshal_palmer(dBZ):\n",
    "    return ( 10 **(dBZ/10) / 200)**(5/8)\n",
    "ds_rad['rainfall'] = marshal_palmer(ds_rad.data)\n",
    "ds_rad = ds_rad.drop('data')"
   ]
  },
  {
   "cell_type": "code",
   "execution_count": 19,
   "id": "7cfea2bb-b3d9-431e-9695-ca1f11177d52",
   "metadata": {},
   "outputs": [],
   "source": [
    "ds_rad.attrs['comment'] += '\\n dBZ was converted to rainfall [mm/h] using the marshal-palmer equation: ( 10 **(dBZ/10) / 200)**(5/8). ' \\\n",
    "' Done by Erlend Øydvin. '\n",
    "ds_rad.rainfall.attrs['units'] = 'mm/h'"
   ]
  },
  {
   "cell_type": "code",
   "execution_count": 22,
   "id": "85342307-a74f-4000-9772-30750ce458e7",
   "metadata": {},
   "outputs": [],
   "source": [
    "ds_rad.to_netcdf('./openMRG_example_rad.nc')"
   ]
  },
  {
   "cell_type": "code",
   "execution_count": null,
   "id": "45c565a9-c74e-4eb6-899d-ad76f4bfa837",
   "metadata": {},
   "outputs": [],
   "source": []
  }
 ],
 "metadata": {
  "kernelspec": {
   "display_name": "Python 3 (ipykernel)",
   "language": "python",
   "name": "python3"
  },
  "language_info": {
   "codemirror_mode": {
    "name": "ipython",
    "version": 3
   },
   "file_extension": ".py",
   "mimetype": "text/x-python",
   "name": "python",
   "nbconvert_exporter": "python",
   "pygments_lexer": "ipython3",
   "version": "3.11.8"
  }
 },
 "nbformat": 4,
 "nbformat_minor": 5
}
